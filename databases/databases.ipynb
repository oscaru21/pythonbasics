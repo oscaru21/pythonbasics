{
 "cells": [
  {
   "cell_type": "code",
   "execution_count": 3,
   "metadata": {},
   "outputs": [],
   "source": [
    "import psycopg2\n",
    "\n",
    "conn = psycopg2.connect(\n",
    "    host=\"localhost\",\n",
    "    database=\"support-desk\",\n",
    "    user=\"postgres\",\n",
    "    password=\"telus\")"
   ]
  },
  {
   "cell_type": "code",
   "execution_count": 10,
   "metadata": {},
   "outputs": [
    {
     "name": "stdout",
     "output_type": "stream",
     "text": [
      "<class 'tuple'>\n",
      "(1, 'oscar@gmail.com', 'Oscar', '$2a$10$PlqPOpZ18cxqVXiVQkw3O.1z1MoraAqEY7bT4vKn4aeECCxd5kwHe', 'oscaru')\n",
      "<class 'tuple'>\n",
      "(2, 'test@test.com', 'test', '$2a$10$NGojhAXQz/l46xpW3AsMAevqi51pXckcgGx2.L4rAZS0P/iEOdBq.', 'test')\n",
      "<class 'tuple'>\n",
      "(3, 'admin@admin.com', 'admin', '$2a$10$9bxyWY0h/qcV/QOrbvjDM.vgJO2bHXd2gYJFEwN93vZoBvWjZ27Ye', 'admin')\n"
     ]
    }
   ],
   "source": [
    "my_cursor = conn.cursor()\n",
    "\n",
    "my_cursor.execute('SELECT * FROM USERS')\n",
    "\n",
    "for rows in my_cursor:\n",
    "    print(type(rows))\n",
    "    print(rows)"
   ]
  }
 ],
 "metadata": {
  "interpreter": {
   "hash": "369f2c481f4da34e4445cda3fffd2e751bd1c4d706f27375911949ba6bb62e1c"
  },
  "kernelspec": {
   "display_name": "Python 3.10.2 64-bit",
   "language": "python",
   "name": "python3"
  },
  "language_info": {
   "codemirror_mode": {
    "name": "ipython",
    "version": 3
   },
   "file_extension": ".py",
   "mimetype": "text/x-python",
   "name": "python",
   "nbconvert_exporter": "python",
   "pygments_lexer": "ipython3",
   "version": "3.10.2"
  },
  "orig_nbformat": 4
 },
 "nbformat": 4,
 "nbformat_minor": 2
}
