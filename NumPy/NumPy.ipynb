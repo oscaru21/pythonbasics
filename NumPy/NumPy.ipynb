{
 "cells": [
  {
   "cell_type": "code",
   "execution_count": 1,
   "metadata": {},
   "outputs": [
    {
     "name": "stdout",
     "output_type": "stream",
     "text": [
      "1.22.4\n"
     ]
    }
   ],
   "source": [
    "import numpy as np\n",
    "print(np.__version__)"
   ]
  },
  {
   "cell_type": "markdown",
   "metadata": {},
   "source": [
    "Create a NumPy array from a Python List"
   ]
  },
  {
   "cell_type": "code",
   "execution_count": 3,
   "metadata": {},
   "outputs": [
    {
     "name": "stdout",
     "output_type": "stream",
     "text": [
      "[ 1  2  3  4  5  6  7  8  9 10] <class 'numpy.ndarray'>\n"
     ]
    }
   ],
   "source": [
    "python_list = [num for num in range(1, 11)]\n",
    "\n",
    "numpy_array = np.array(python_list)\n",
    "\n",
    "print(numpy_array, type(numpy_array))"
   ]
  },
  {
   "cell_type": "markdown",
   "metadata": {},
   "source": [
    "Array operations"
   ]
  },
  {
   "cell_type": "code",
   "execution_count": 4,
   "metadata": {},
   "outputs": [
    {
     "name": "stdout",
     "output_type": "stream",
     "text": [
      "4\n",
      "[ 5  1  2  3  4  5  6  7  8  9 10]\n"
     ]
    }
   ],
   "source": [
    "#we can access elements of a numpy array the same way we do with list\n",
    "print(numpy_array[3])\n",
    "\n",
    "#to insert a new element we use the insert funciton that return the updated array\n",
    "numpy_array = np.insert(numpy_array, 0, 5)\n",
    "print(numpy_array)"
   ]
  },
  {
   "cell_type": "markdown",
   "metadata": {},
   "source": [
    "Multidimentional arrays"
   ]
  },
  {
   "cell_type": "code",
   "execution_count": 14,
   "metadata": {},
   "outputs": [
    {
     "name": "stdout",
     "output_type": "stream",
     "text": [
      "float16\n",
      "2\n",
      "(2, 3)\n",
      "[[1. 2. 3.]\n",
      " [4. 5. 6.]]\n"
     ]
    }
   ],
   "source": [
    "#an array that contains arrays is a multidimentional array \n",
    "multidimentional_array = np.array([[1, 2, 3], [4, 5, 6]], dtype=np.float16)\n",
    "\n",
    "print(multidimentional_array.dtype)\n",
    "print(multidimentional_array.ndim)\n",
    "print(multidimentional_array.shape)\n",
    "print(multidimentional_array)"
   ]
  },
  {
   "cell_type": "code",
   "execution_count": 7,
   "metadata": {},
   "outputs": [
    {
     "name": "stdout",
     "output_type": "stream",
     "text": [
      "1\n",
      "2\n",
      "3\n",
      "4\n",
      "5\n",
      "6\n"
     ]
    }
   ],
   "source": [
    "\n",
    "#we can traverse a multidementional array using loops\n",
    "for row in multidimentional_array:\n",
    "    for item in row:\n",
    "        print(item)"
   ]
  },
  {
   "cell_type": "markdown",
   "metadata": {},
   "source": [
    "Array reshaping"
   ]
  },
  {
   "cell_type": "code",
   "execution_count": 18,
   "metadata": {},
   "outputs": [
    {
     "name": "stdout",
     "output_type": "stream",
     "text": [
      "[[2 4 6 8]]\n",
      "[[2 4]\n",
      " [6 8]]\n",
      "[[2]\n",
      " [4]\n",
      " [6]\n",
      " [8]]\n",
      "[[2 4]\n",
      " [6 8]]\n"
     ]
    }
   ],
   "source": [
    "#array reshaping is really useful when we are going to manipulate the data for example doing vector operations \n",
    "#we can do this using the reshape(function)\n",
    "\n",
    "linear_array = np.array([num for num in range(2,9,2)])\n",
    "\n",
    "#the linear array contains 4 elements so we could reshape it like (row-columns): 1-4 2-2 4-1\n",
    "\n",
    "row_array = linear_array.reshape(1, 4)\n",
    "matrix_array = linear_array.reshape(2, 2)\n",
    "column_array = linear_array.reshape(4, 1)\n",
    "\n",
    "print(row_array)\n",
    "print(matrix_array)\n",
    "print(column_array)\n",
    "\n",
    "#if we dont want to manually calculate the dimention we can use the -1 as an argument\n",
    "new_array = linear_array.reshape(2, -1)\n",
    "#invalid_array = linear_array.reshape(3, -1)\n",
    "\n",
    "print(new_array)\n",
    "#print(invalid_array)"
   ]
  }
 ],
 "metadata": {
  "interpreter": {
   "hash": "369f2c481f4da34e4445cda3fffd2e751bd1c4d706f27375911949ba6bb62e1c"
  },
  "kernelspec": {
   "display_name": "Python 3.10.2 64-bit",
   "language": "python",
   "name": "python3"
  },
  "language_info": {
   "codemirror_mode": {
    "name": "ipython",
    "version": 3
   },
   "file_extension": ".py",
   "mimetype": "text/x-python",
   "name": "python",
   "nbconvert_exporter": "python",
   "pygments_lexer": "ipython3",
   "version": "3.10.2"
  },
  "orig_nbformat": 4
 },
 "nbformat": 4,
 "nbformat_minor": 2
}
