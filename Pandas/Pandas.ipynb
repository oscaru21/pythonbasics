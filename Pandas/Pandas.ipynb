{
 "cells": [
  {
   "cell_type": "markdown",
   "metadata": {},
   "source": [
    "Pandas"
   ]
  },
  {
   "cell_type": "code",
   "execution_count": 27,
   "metadata": {},
   "outputs": [],
   "source": [
    "import pandas as pd\n",
    "import numpy as np"
   ]
  },
  {
   "cell_type": "markdown",
   "metadata": {},
   "source": [
    "Series (One dimensional data)"
   ]
  },
  {
   "cell_type": "code",
   "execution_count": 28,
   "metadata": {},
   "outputs": [
    {
     "name": "stdout",
     "output_type": "stream",
     "text": [
      "2    1\n",
      "3    2\n",
      "4    3\n",
      "5    4\n",
      "dtype: int64\n",
      "2    0.5\n",
      "3    1.0\n",
      "4    1.5\n",
      "5    2.0\n",
      "dtype: float64\n"
     ]
    }
   ],
   "source": [
    "#every item is identified with an index\n",
    "#we can specify the index as well\n",
    "s = pd.Series([1, 2, 3, 4], index=[2,3,4,5])\n",
    "\n",
    "#pandas is really great because we can treat the whole dataset as a vector and apply scalar operations\n",
    "#for example we could multiply the elements or divide them\n",
    "print(s)\n",
    "print(s / 2)\n",
    "\n",
    "#and it will update the data type automatically"
   ]
  },
  {
   "cell_type": "markdown",
   "metadata": {},
   "source": [
    "Dataframes (The most popular data structure in Pandas)"
   ]
  },
  {
   "cell_type": "code",
   "execution_count": 29,
   "metadata": {},
   "outputs": [
    {
     "name": "stdout",
     "output_type": "stream",
     "text": [
      "    0\n",
      "0  10\n",
      "1  20\n",
      "2  30\n",
      "3  40\n",
      "4  50\n",
      "        0   1\n",
      "0   Oscar  24\n",
      "1   Erika  28\n",
      "2  Javier  25\n",
      "      Name  Age\n",
      "p1   Oscar   24\n",
      "p2   Erika   28\n",
      "p3  Javier   25\n"
     ]
    }
   ],
   "source": [
    "df = pd.DataFrame([10, 20, 30, 40, 50])\n",
    "\n",
    "print(df)\n",
    "\n",
    "#Dataframe allow us o work with multidimensional structures\n",
    "data = [['Oscar', 24], ['Erika', 28], ['Javier', 25]]\n",
    "df2 = pd.DataFrame(data)\n",
    "\n",
    "print(df2)\n",
    "\n",
    "#we can also define dataframe using dictionaries\n",
    "dict = {\n",
    "    'Name': ['Oscar', 'Erika', 'Javier'],\n",
    "    'Age':[24, 28, 25]\n",
    "}\n",
    "df3 = pd.DataFrame(dict, index=['p1','p2','p3'])\n",
    "\n",
    "print(df3)"
   ]
  },
  {
   "cell_type": "markdown",
   "metadata": {},
   "source": [
    "Dataframe Operations:"
   ]
  },
  {
   "cell_type": "code",
   "execution_count": 30,
   "metadata": {},
   "outputs": [
    {
     "name": "stdout",
     "output_type": "stream",
     "text": [
      "Name       Oscar\n",
      "Age           24\n",
      "New col        1\n",
      "New Age      240\n",
      "Name: p1, dtype: object\n",
      "Name       Oscar\n",
      "Age           24\n",
      "New col        1\n",
      "New Age      240\n",
      "Name: p1, dtype: object\n",
      "Oscar\n",
      "      Name  Age  New col  New Age\n",
      "p1   Oscar   24        1      240\n",
      "p2   Erika   28        2      280\n",
      "p3  Javier   25        3      250\n"
     ]
    }
   ],
   "source": [
    "#column manipulation\n",
    "#to insert a new column we need to specify, the name of the column, the values as a Serie \n",
    "#and if we have specified an index for the Dataframe we also need to include that\n",
    "df3['New col'] = pd.Series([1,2,3], index=['p1','p2','p3'])\n",
    "\n",
    "#we can create new columns based on existing ones\n",
    "df3['New Age'] = 10 * df3['Age']\n",
    "\n",
    "#row manipulation\n",
    "#loc() iloc() at() iat()\n",
    "#we can use the loc function if we have define a label for the row\n",
    "print(df3.loc['p1'])\n",
    "\n",
    "#if not we have to use the iloc\n",
    "print(df3.iloc[0])\n",
    "\n",
    "#the at and iat are used\n",
    "print(df3.iat[0, 0])\n",
    "\n",
    "print(df3)"
   ]
  },
  {
   "cell_type": "markdown",
   "metadata": {},
   "source": [
    "Reading CSV and text files"
   ]
  },
  {
   "cell_type": "code",
   "execution_count": 31,
   "metadata": {},
   "outputs": [
    {
     "name": "stdout",
     "output_type": "stream",
     "text": [
      "         Date       Open       High        Low      Close  Adj Close    Volume\n",
      "0  2020-01-02  84.900002  86.139999  84.342003  86.052002  86.052002  47660500\n",
      "1  2020-01-03  88.099998  90.800003  87.384003  88.601997  88.601997  88892500\n",
      "2  2020-01-06  88.094002  90.311996  88.000000  90.307999  90.307999  50665000\n",
      "           Date       Open        High         Low       Close   Adj Close  \\\n",
      "251  2020-12-30  672.00000  696.599976  668.359985  694.780029  694.780029   \n",
      "252  2020-12-31  699.98999  718.719971  691.119995  705.669983  705.669983   \n",
      "\n",
      "       Volume  \n",
      "251  42846000  \n",
      "252  49649900  \n",
      "4.8999999999999995\n"
     ]
    }
   ],
   "source": [
    "# we can use the read_csv function that returns a Dataframe\n",
    "tesla = pd.read_csv('TSLA.csv')\n",
    "\n",
    "#we can use the head function to get the first values\n",
    "print(tesla.head(3))\n",
    "\n",
    "#we can use the tail funtion to get the last values\n",
    "print(tesla.tail(2))\n",
    "\n",
    "print(7*0.7)\n",
    "#print(tesla)"
   ]
  },
  {
   "cell_type": "markdown",
   "metadata": {},
   "source": [
    "Vectorization:"
   ]
  },
  {
   "cell_type": "code",
   "execution_count": 38,
   "metadata": {},
   "outputs": [
    {
     "name": "stdout",
     "output_type": "stream",
     "text": [
      "Time taken with apply(): 4.5509s\n",
      "Time taken with vectorization: 0.0345s\n"
     ]
    }
   ],
   "source": [
    "from time import time\n",
    "\n",
    "random_numbers = pd.DataFrame(np.random.randint(0, 100, size=10_000_000), columns=['Number'])\n",
    "\n",
    "#lets calculate the square of each value\n",
    "start = time()\n",
    "random_numbers['Squared'] = random_numbers['Number'].apply(lambda x : pow(x, 2))\n",
    "print('Time taken with apply(): %.4fs' % (time() - start))\n",
    "\n",
    "#vectorization (usually quite easy)\n",
    "start = time()\n",
    "random_numbers['Squared'] = pow(random_numbers['Number'],2)\n",
    "print('Time taken with vectorization: %.4fs' % (time() - start))\n"
   ]
  }
 ],
 "metadata": {
  "interpreter": {
   "hash": "369f2c481f4da34e4445cda3fffd2e751bd1c4d706f27375911949ba6bb62e1c"
  },
  "kernelspec": {
   "display_name": "Python 3.10.2 64-bit",
   "language": "python",
   "name": "python3"
  },
  "language_info": {
   "codemirror_mode": {
    "name": "ipython",
    "version": 3
   },
   "file_extension": ".py",
   "mimetype": "text/x-python",
   "name": "python",
   "nbconvert_exporter": "python",
   "pygments_lexer": "ipython3",
   "version": "3.10.2"
  },
  "orig_nbformat": 4
 },
 "nbformat": 4,
 "nbformat_minor": 2
}
