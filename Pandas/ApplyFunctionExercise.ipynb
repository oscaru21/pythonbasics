{
 "cells": [
  {
   "cell_type": "markdown",
   "metadata": {},
   "source": [
    "Apply Function Exercise:\n",
    "Create a DataFrame with 1 million random integers in the range [0, 100]. Create another column and double the original values (so if the random integer is 10 then the second column should store 2x10=20).\n",
    "\n",
    "Implement the problem with iteration (for loop) as well as with the apply function!"
   ]
  },
  {
   "cell_type": "code",
   "execution_count": 1,
   "metadata": {},
   "outputs": [],
   "source": [
    "import numpy as np\n",
    "import pandas as pd"
   ]
  },
  {
   "cell_type": "code",
   "execution_count": 6,
   "metadata": {},
   "outputs": [
    {
     "name": "stdout",
     "output_type": "stream",
     "text": [
      "        Value Double\n",
      "0          53    106\n",
      "1          76    152\n",
      "2          37     74\n",
      "3          62    124\n",
      "4          63    126\n",
      "...       ...    ...\n",
      "999995     11     22\n",
      "999996     50    100\n",
      "999997     85    170\n",
      "999998     11     22\n",
      "999999     65    130\n",
      "\n",
      "[1000000 rows x 2 columns]\n"
     ]
    }
   ],
   "source": [
    "df = pd.DataFrame(np.random.randint(100, size=1_000_000), columns=['Value'])\n",
    "\n",
    "#using apply function\n",
    "#df['Double'] = df['Value'].apply(lambda x : 2 * x)\n",
    "\n",
    "#using iteration\n",
    "df['Double'] = ''\n",
    "\n",
    "for i in range(len(df)):\n",
    "    df.at[i, 'Double'] = 2 * df.at[i, 'Value']\n",
    "\n",
    "print(df)"
   ]
  }
 ],
 "metadata": {
  "interpreter": {
   "hash": "369f2c481f4da34e4445cda3fffd2e751bd1c4d706f27375911949ba6bb62e1c"
  },
  "kernelspec": {
   "display_name": "Python 3.10.2 64-bit",
   "language": "python",
   "name": "python3"
  },
  "language_info": {
   "codemirror_mode": {
    "name": "ipython",
    "version": 3
   },
   "file_extension": ".py",
   "mimetype": "text/x-python",
   "name": "python",
   "nbconvert_exporter": "python",
   "pygments_lexer": "ipython3",
   "version": "3.10.2"
  },
  "orig_nbformat": 4
 },
 "nbformat": 4,
 "nbformat_minor": 2
}
