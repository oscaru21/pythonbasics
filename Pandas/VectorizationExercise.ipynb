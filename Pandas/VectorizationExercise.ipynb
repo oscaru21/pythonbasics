{
 "cells": [
  {
   "cell_type": "markdown",
   "metadata": {},
   "source": [
    "Vectorization exercise\n",
    "In the previous lectures we have seen how to use vectorization and the apply function. Let's assume we have a function:\n",
    "\n",
    "def f(x):\n",
    "    return np.sin(x) * np.exp(-x)\n",
    "    \n",
    "Create a DataFrame with 10 million random integers within the range [0, 100]. Calculate the f(x) value for every single item with apply function and with vectorization as well."
   ]
  },
  {
   "cell_type": "code",
   "execution_count": 3,
   "metadata": {},
   "outputs": [],
   "source": [
    "import numpy as np\n",
    "import pandas as pd\n",
    "from time import time"
   ]
  },
  {
   "cell_type": "code",
   "execution_count": 2,
   "metadata": {},
   "outputs": [],
   "source": [
    "def f(x):\n",
    "    return np.sin(x) * np.exp(-x)"
   ]
  },
  {
   "cell_type": "code",
   "execution_count": 5,
   "metadata": {},
   "outputs": [
    {
     "name": "stdout",
     "output_type": "stream",
     "text": [
      "Time taken with apply 24.6509s\n",
      "Time taken with vectorization 0.3803s\n"
     ]
    }
   ],
   "source": [
    "df = pd.DataFrame(np.random.randint(100, size=10_000_000), columns=['Number'])\n",
    "\n",
    "#calculate f(x) with apply\n",
    "start = time()\n",
    "df['f(x)'] = df['Number'].apply(f)\n",
    "print('Time taken with apply %.4fs' % (time() - start))\n",
    "\n",
    "#calculate f(x) with vectorization\n",
    "start = time()\n",
    "df['f(x)'] = f(df['Number'])\n",
    "print('Time taken with vectorization %.4fs' % (time() - start))"
   ]
  }
 ],
 "metadata": {
  "interpreter": {
   "hash": "369f2c481f4da34e4445cda3fffd2e751bd1c4d706f27375911949ba6bb62e1c"
  },
  "kernelspec": {
   "display_name": "Python 3.10.2 64-bit",
   "language": "python",
   "name": "python3"
  },
  "language_info": {
   "codemirror_mode": {
    "name": "ipython",
    "version": 3
   },
   "file_extension": ".py",
   "mimetype": "text/x-python",
   "name": "python",
   "nbconvert_exporter": "python",
   "pygments_lexer": "ipython3",
   "version": "3.10.2"
  },
  "orig_nbformat": 4
 },
 "nbformat": 4,
 "nbformat_minor": 2
}
